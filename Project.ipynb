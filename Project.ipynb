{
 "cells": [
  {
   "cell_type": "markdown",
   "id": "8fc0fd05",
   "metadata": {},
   "source": [
    "# Understanding Hired Rides in NYC\n",
    "\n",
    "_[Project prompt](https://docs.google.com/document/d/1uAUJGEUzfNj6OsWNAimnYCw7eKaHhMUfU1MTj9YwYw4/edit?usp=sharing), [grading rubric](https://docs.google.com/document/d/1hKuRWqFcIdhOkow3Nljcm7PXzIkoa9c_aHkMKZDxWa0/edit?usp=sharing)_\n",
    "\n",
    "_This scaffolding notebook may be used to help setup your final project. It's **totally optional** whether you make use of this or not._\n",
    "\n",
    "_If you do use this notebook, everything provided is optional as well - you may remove or add prose and code as you wish._\n",
    "\n",
    "_**All code below should be consider \"pseudo-code\" - not functional by itself, and only an outline to help you with your own approach.**_"
   ]
  },
  {
   "cell_type": "markdown",
   "id": "82b58d13",
   "metadata": {},
   "source": [
    "## Project Setup"
   ]
  },
  {
   "cell_type": "code",
   "execution_count": 16,
   "id": "63ba90b9",
   "metadata": {},
   "outputs": [],
   "source": [
    "# all import statements needed for the project, for example:\n",
    "\n",
    "import math\n",
    "import os\n",
    "import re\n",
    "\n",
    "import bs4\n",
    "import matplotlib.pyplot as plt\n",
    "import pandas as pd\n",
    "import requests\n",
    "import sqlalchemy as db\n",
    "import geopandas as gpd\n",
    "from keplergl import KeplerGl"
   ]
  },
  {
   "cell_type": "code",
   "execution_count": 17,
   "id": "42d51721",
   "metadata": {},
   "outputs": [],
   "source": [
    "# any constants you might need; some have been added for you, and \n",
    "# some you need to fill in\n",
    "\n",
    "TAXI_URL = \"https://www1.nyc.gov/site/tlc/about/tlc-trip-record-data.page\"\n",
    "\n",
    "TAXI_ZONES_DIR = \"data/taxi_zones\"\n",
    "TAXI_PARQUET_DIR = \"data/taxi_parquet\"\n",
    "TAXI_ZONES_SHAPEFILE = f\"{TAXI_ZONES_DIR}/taxi_zones.shp\"\n",
    "UBER_CSV = \"data/uber_rides_sample.csv\"\n",
    "WEATHER_CSV_DIR = \"data/weather\"\n",
    "\n",
    "CRS = 4326  # coordinate reference system\n",
    "\n",
    "# (lat, lon)\n",
    "NEW_YORK_BOX_COORDS = ((40.560445, -74.242330), (40.908524, -73.717047))\n",
    "LGA_BOX_COORDS = ((40.763589, -73.891745), (40.778865, -73.854838))\n",
    "JFK_BOX_COORDS = ((40.639263, -73.795642), (40.651376, -73.766264))\n",
    "EWR_BOX_COORDS = ((40.686794, -74.194028), (40.699680, -74.165205))\n",
    "\n",
    "DATABASE_URL = \"sqlite:///project.db\"\n",
    "DATABASE_SCHEMA_FILE = \"schema.sql\"\n",
    "QUERY_DIRECTORY = \"queries\""
   ]
  },
  {
   "cell_type": "code",
   "execution_count": 18,
   "id": "0ca80a96",
   "metadata": {},
   "outputs": [],
   "source": [
    "# Make sure the QUERY_DIRECTORY exists\n",
    "try:\n",
    "    os.mkdir(QUERY_DIRECTORY)\n",
    "except Exception as e:\n",
    "    if e.errno == 17:\n",
    "        # the directory already exists\n",
    "        pass\n",
    "    else:\n",
    "        raise"
   ]
  },
  {
   "cell_type": "markdown",
   "id": "74bfb96e",
   "metadata": {},
   "source": [
    "## Part 1: Data Preprocessing"
   ]
  },
  {
   "cell_type": "markdown",
   "id": "385c67a3",
   "metadata": {},
   "source": [
    "### Load Taxi Zones"
   ]
  },
  {
   "cell_type": "code",
   "execution_count": null,
   "id": "f834160a",
   "metadata": {},
   "outputs": [],
   "source": [
    "def load_taxi_zones(shapefile):\n",
    "    taxi_zones = gpd.read_file(filename=shapefile)\n",
    "    taxi_zones = taxi_zones.to_crs(CRS)\n",
    "    taxi_zones['longitude'] = taxi_zones.centroid.x\n",
    "    taxi_zones['latitude'] = taxi_zones.centroid.y\n",
    "    taxi_zones = taxi_zones[['longitude', 'latitude']]\n",
    "    return taxi_zones"
   ]
  },
  {
   "cell_type": "code",
   "execution_count": null,
   "id": "3a2fd5a9",
   "metadata": {},
   "outputs": [],
   "source": [
    "def lookup_coords_for_taxi_zone_id(zone_loc_id, loaded_taxi_zones):\n",
    "    return loaded_taxi_zones.loc[zone_loc_id, \"latitude\"], loaded_taxi_zones.loc[zone_loc_id, \"longitude\"]"
   ]
  },
  {
   "cell_type": "markdown",
   "id": "3dd1c1a3",
   "metadata": {},
   "source": [
    "### Calculate distance"
   ]
  },
  {
   "cell_type": "code",
   "execution_count": null,
   "id": "63014a49",
   "metadata": {},
   "outputs": [],
   "source": [
    "def calculate_distance_with_coords(from_coord, to_coord):\n",
    "    pickup_lat, pickup_long = from_coord.iloc[:,0], from_coord.iloc[:,1]\n",
    "    dropoff_lat, dropoff_long = to_coord.iloc[:,0], to_coord.iloc[:,1]    \n",
    "    return 12742 * (((((dropoff_lat - pickup_lat)/2).map(math.sin))**2 + (pickup_lat.map(math.cos)) * (dropoff_lat.map(math.cos)) * (((dropoff_long - pickup_long)/2).map(math.sin))**2)**0.5).map(math.asin)"
   ]
  },
  {
   "cell_type": "code",
   "execution_count": null,
   "id": "e61e7751",
   "metadata": {},
   "outputs": [],
   "source": [
    "def calculate_distance_with_zones(from_zone, to_zone):\n",
    "    raise NotImplementedError()"
   ]
  },
  {
   "cell_type": "code",
   "execution_count": null,
   "id": "c3b45c94",
   "metadata": {},
   "outputs": [],
   "source": [
    "def add_distance_column(dataframe):\n",
    "    dataframe['distance'] = calculate_distance_with_coords(dataframe[['pickup_latitude', 'pickup_longitude']], dataframe[['dropoff_latitude', 'dropoff_longitude']])\n",
    "    return dataframe"
   ]
  },
  {
   "cell_type": "markdown",
   "id": "afe657b4",
   "metadata": {},
   "source": [
    "### Process Taxi Data"
   ]
  },
  {
   "cell_type": "code",
   "execution_count": null,
   "id": "fd744509",
   "metadata": {},
   "outputs": [],
   "source": [
    "def get_all_urls_from_taxi_page(taxi_page):\n",
    "    response = requests.get(TAXI_URL)\n",
    "    soup = bs4.BeautifulSoup(response.text, \"html.parser\")\n",
    "    urls = soup.select('a[title=\"Yellow Taxi Trip Records\"]')\n",
    "    return urls"
   ]
  },
  {
   "cell_type": "code",
   "execution_count": null,
   "id": "16013bfc",
   "metadata": {},
   "outputs": [],
   "source": [
    "def filter_taxi_parquet_urls(all_urls):\n",
    "    pattern = r\"2009|201[0-4]|2015-0[1-6]\"\n",
    "    parquet_urls = []\n",
    "    \n",
    "    for url in all_urls:\n",
    "        href = url[\"href\"]\n",
    "        if re.search(pattern, href):\n",
    "            parquet_urls.append(href)\n",
    "        \n",
    "    return parquet_urls"
   ]
  },
  {
   "cell_type": "code",
   "execution_count": null,
   "id": "0e890128",
   "metadata": {},
   "outputs": [],
   "source": [
    "def get_and_clean_month(url, loaded_taxi_zones):\n",
    "    fname = url[url.rfind(\"/\")+1:]\n",
    "    fpath = os.path.join(TAXI_PARQUET_DIR, fname)\n",
    "    if os.path.exists(fpath):\n",
    "        df=pd.read_parquet(fpath)\n",
    "    else:\n",
    "        df = pd.read_parquet(url)\n",
    "    \n",
    "    if 'DOLocationID' in df:\n",
    "        df['pickup_latitude'], df['pickup_longitude'] = lookup_coords_for_taxi_zone_id(df['PULocationID'], loaded_taxi_zones)\n",
    "        df['dropoff_latitude'], df['dropoff_longitude']= lookup_coords_for_taxi_zone_id(df['DOLocationID'], loaded_taxi_zones)\n",
    "    \n",
    "    df.rename(columns={'tpep_pickup_datetime':'pickup_datetime' ,'Start_Lon':'pickup_longitude', 'Start_Lat':'pickup_latitude', 'End_Lon':'dropoff_longitude', 'End_Lat':'dropoff_latitude','Tip_Amt':'tip_amount'}, inplace=True)\n",
    "    df = df[['pickup_datetime', 'pickup_latitude','pickup_longitude', 'dropoff_latitude','dropoff_longitude', 'tip_amount']]\n",
    "        \n",
    "    lower_lat, lower_long = NEW_YORK_BOX_COORDS[0]\n",
    "    upper_lat, upper_long = NEW_YORK_BOX_COORDS[1]\n",
    "    \n",
    "    df = df[(df['tip_amount'] >= 0)]\n",
    "    \n",
    "    df = df[(df['pickup_latitude'] >= lower_lat) & (df['pickup_latitude'] <= upper_lat)]\n",
    "    df = df[(df['pickup_longitude'] >= lower_long) & (df['pickup_longitude'] <= upper_long)]\n",
    "    df = df[(df['dropoff_latitude'] >= lower_lat) & (df['dropoff_latitude'] <= upper_lat)]\n",
    "    df = df[(df['dropoff_longitude'] >= lower_long) & (df['dropoff_longitude'] <= upper_long)]\n",
    "\n",
    "    df['pickup_datetime'] = pd.to_datetime(df['pickup_datetime'])\n",
    "    df[\"pickup_latitude\"] = pd.to_numeric(df[\"pickup_latitude\"], errors = \"coerce\")\n",
    "    df[\"pickup_longitude\"] = pd.to_numeric(df[\"pickup_longitude\"], errors = \"coerce\")\n",
    "    df[\"dropoff_latitude\"] = pd.to_numeric(df[\"dropoff_latitude\"], errors = \"coerce\")\n",
    "    df[\"dropoff_longitude\"] = pd.to_numeric(df[\"dropoff_longitude\"], errors = \"coerce\")\n",
    "    df[\"tip_amount\"] = pd.to_numeric(df[\"tip_amount\"], errors = \"coerce\")\n",
    "    \n",
    "    df = df.dropna().sort_values(by=\"pickup_datetime\")\n",
    "    df.index = range(df.shape[0])\n",
    "    \n",
    "    return df"
   ]
  },
  {
   "cell_type": "code",
   "execution_count": null,
   "id": "9953b994",
   "metadata": {},
   "outputs": [],
   "source": [
    "def get_and_clean_taxi_data(parquet_urls):\n",
    "    all_taxi_dataframes = []\n",
    "    loaded_taxi_zones = load_taxi_zones(TAXI_ZONES_SHAPEFILE)\n",
    "    \n",
    "    for parquet_url in parquet_urls:\n",
    "        # maybe: first try to see if you've downloaded this exact\n",
    "        # file already and saved it before trying again\n",
    "        dataframe = get_and_clean_month(parquet_url, loaded_taxi_zones)\n",
    "        add_distance_column(dataframe)\n",
    "        # maybe: if the file hasn't been saved, save it so you can\n",
    "        # avoid re-downloading it if you re-run the function\n",
    "        \n",
    "        all_taxi_dataframes.append(dataframe)\n",
    "        \n",
    "    # create one gigantic dataframe with data from every month needed\n",
    "    taxi_data = pd.contact(all_taxi_dataframes)\n",
    "    return taxi_data"
   ]
  },
  {
   "cell_type": "code",
   "execution_count": null,
   "id": "52f2cfe2",
   "metadata": {},
   "outputs": [],
   "source": [
    "def get_taxi_data():\n",
    "    all_urls = get_all_urls_from_taxi_page(TAXI_URL)\n",
    "    all_parquet_urls = filter_taxi_parquet_urls(all_urls)\n",
    "    taxi_data = get_and_clean_taxi_data(all_parquet_urls)\n",
    "    return taxi_data"
   ]
  },
  {
   "cell_type": "code",
   "execution_count": null,
   "id": "fffff52c",
   "metadata": {},
   "outputs": [],
   "source": [
    "taxi_data = get_taxi_data()"
   ]
  },
  {
   "cell_type": "code",
   "execution_count": 20,
   "id": "c1bb5ebb",
   "metadata": {},
   "outputs": [
    {
     "data": {
      "text/html": [
       "<div>\n",
       "<style scoped>\n",
       "    .dataframe tbody tr th:only-of-type {\n",
       "        vertical-align: middle;\n",
       "    }\n",
       "\n",
       "    .dataframe tbody tr th {\n",
       "        vertical-align: top;\n",
       "    }\n",
       "\n",
       "    .dataframe thead th {\n",
       "        text-align: right;\n",
       "    }\n",
       "</style>\n",
       "<table border=\"1\" class=\"dataframe\">\n",
       "  <thead>\n",
       "    <tr style=\"text-align: right;\">\n",
       "      <th></th>\n",
       "      <th>pickup_datetime</th>\n",
       "      <th>pickup_longitude</th>\n",
       "      <th>pickup_latitude</th>\n",
       "      <th>dropoff_longitude</th>\n",
       "      <th>dropoff_latitude</th>\n",
       "      <th>tip_amount</th>\n",
       "      <th>distance</th>\n",
       "    </tr>\n",
       "    <tr>\n",
       "      <th>Unnamed: 0</th>\n",
       "      <th></th>\n",
       "      <th></th>\n",
       "      <th></th>\n",
       "      <th></th>\n",
       "      <th></th>\n",
       "      <th></th>\n",
       "      <th></th>\n",
       "    </tr>\n",
       "  </thead>\n",
       "  <tbody>\n",
       "    <tr>\n",
       "      <th>11723032</th>\n",
       "      <td>2015-01-29 23:42:29</td>\n",
       "      <td>-73.977570</td>\n",
       "      <td>40.764420</td>\n",
       "      <td>-73.954740</td>\n",
       "      <td>40.765484</td>\n",
       "      <td>0.00</td>\n",
       "      <td>1.926106</td>\n",
       "    </tr>\n",
       "    <tr>\n",
       "      <th>11591956</th>\n",
       "      <td>2015-01-29 18:54:33</td>\n",
       "      <td>-73.985940</td>\n",
       "      <td>40.727620</td>\n",
       "      <td>-73.990456</td>\n",
       "      <td>40.740337</td>\n",
       "      <td>0.00</td>\n",
       "      <td>1.464508</td>\n",
       "    </tr>\n",
       "    <tr>\n",
       "      <th>9253077</th>\n",
       "      <td>2015-01-23 02:59:00</td>\n",
       "      <td>-74.008990</td>\n",
       "      <td>40.735035</td>\n",
       "      <td>-73.985940</td>\n",
       "      <td>40.727620</td>\n",
       "      <td>0.00</td>\n",
       "      <td>2.109891</td>\n",
       "    </tr>\n",
       "    <tr>\n",
       "      <th>3127418</th>\n",
       "      <td>2015-01-09 05:38:17</td>\n",
       "      <td>-73.989845</td>\n",
       "      <td>40.762253</td>\n",
       "      <td>-73.996920</td>\n",
       "      <td>40.720890</td>\n",
       "      <td>3.65</td>\n",
       "      <td>4.637764</td>\n",
       "    </tr>\n",
       "    <tr>\n",
       "      <th>6467808</th>\n",
       "      <td>2015-01-16 16:31:54</td>\n",
       "      <td>-73.989845</td>\n",
       "      <td>40.762253</td>\n",
       "      <td>-74.004010</td>\n",
       "      <td>40.753307</td>\n",
       "      <td>0.00</td>\n",
       "      <td>1.553517</td>\n",
       "    </tr>\n",
       "  </tbody>\n",
       "</table>\n",
       "</div>"
      ],
      "text/plain": [
       "                pickup_datetime  pickup_longitude  pickup_latitude  \\\n",
       "Unnamed: 0                                                           \n",
       "11723032    2015-01-29 23:42:29        -73.977570        40.764420   \n",
       "11591956    2015-01-29 18:54:33        -73.985940        40.727620   \n",
       "9253077     2015-01-23 02:59:00        -74.008990        40.735035   \n",
       "3127418     2015-01-09 05:38:17        -73.989845        40.762253   \n",
       "6467808     2015-01-16 16:31:54        -73.989845        40.762253   \n",
       "\n",
       "            dropoff_longitude  dropoff_latitude  tip_amount  distance  \n",
       "Unnamed: 0                                                             \n",
       "11723032           -73.954740         40.765484        0.00  1.926106  \n",
       "11591956           -73.990456         40.740337        0.00  1.464508  \n",
       "9253077            -73.985940         40.727620        0.00  2.109891  \n",
       "3127418            -73.996920         40.720890        3.65  4.637764  \n",
       "6467808            -74.004010         40.753307        0.00  1.553517  "
      ]
     },
     "execution_count": 20,
     "metadata": {},
     "output_type": "execute_result"
    }
   ],
   "source": [
    "taxi_data.head()"
   ]
  },
  {
   "cell_type": "markdown",
   "id": "f8f80f7c",
   "metadata": {},
   "source": [
    "### Processing Uber Data"
   ]
  },
  {
   "cell_type": "code",
   "execution_count": 21,
   "id": "c63c3836",
   "metadata": {},
   "outputs": [],
   "source": [
    "def load_and_clean_uber_data(csv_file):\n",
    "    df = pd.read_csv(UBER_CSV, index_col=[0])\n",
    "    \n",
    "    df = df[['pickup_datetime', 'pickup_latitude','pickup_longitude', 'dropoff_latitude','dropoff_longitude']]\n",
    "        \n",
    "    lower_lat, lower_long = NEW_YORK_BOX_COORDS[0]\n",
    "    upper_lat, upper_long = NEW_YORK_BOX_COORDS[1]\n",
    "    \n",
    "    df = df[(df['pickup_latitude'] >= lower_lat) & (df['pickup_latitude'] <= upper_lat)]\n",
    "    df = df[(df['pickup_longitude'] >= lower_long) & (df['pickup_longitude'] <= upper_long)]\n",
    "    df = df[(df['dropoff_latitude'] >= lower_lat) & (df['dropoff_latitude'] <= upper_lat)]\n",
    "    df = df[(df['dropoff_longitude'] >= lower_long) & (df['dropoff_longitude'] <= upper_long)]\n",
    "\n",
    "    df['pickup_datetime'] = pd.to_datetime(df['pickup_datetime'])\n",
    "    df[\"pickup_latitude\"] = pd.to_numeric(df[\"pickup_latitude\"], errors = \"coerce\")\n",
    "    df[\"pickup_longitude\"] = pd.to_numeric(df[\"pickup_longitude\"], errors = \"coerce\")\n",
    "    df[\"dropoff_latitude\"] = pd.to_numeric(df[\"dropoff_latitude\"], errors = \"coerce\")\n",
    "    df[\"dropoff_longitude\"] = pd.to_numeric(df[\"dropoff_longitude\"], errors = \"coerce\")\n",
    "    \n",
    "    df = df.dropna().sort_values(by=\"pickup_datetime\")\n",
    "    df.index = range(df.shape[0])\n",
    "    \n",
    "    return df"
   ]
  },
  {
   "cell_type": "code",
   "execution_count": 22,
   "id": "b7fb8539",
   "metadata": {},
   "outputs": [],
   "source": [
    "def get_uber_data():\n",
    "    uber_dataframe = load_and_clean_uber_data(UBER_CSV)\n",
    "    add_distance_column(uber_dataframe)\n",
    "    return uber_dataframe"
   ]
  },
  {
   "cell_type": "code",
   "execution_count": 23,
   "id": "d2850778",
   "metadata": {},
   "outputs": [],
   "source": [
    "uber_data = get_uber_data()"
   ]
  },
  {
   "cell_type": "code",
   "execution_count": 24,
   "id": "b4de1ccf",
   "metadata": {},
   "outputs": [
    {
     "data": {
      "text/html": [
       "<div>\n",
       "<style scoped>\n",
       "    .dataframe tbody tr th:only-of-type {\n",
       "        vertical-align: middle;\n",
       "    }\n",
       "\n",
       "    .dataframe tbody tr th {\n",
       "        vertical-align: top;\n",
       "    }\n",
       "\n",
       "    .dataframe thead th {\n",
       "        text-align: right;\n",
       "    }\n",
       "</style>\n",
       "<table border=\"1\" class=\"dataframe\">\n",
       "  <thead>\n",
       "    <tr style=\"text-align: right;\">\n",
       "      <th></th>\n",
       "      <th>pickup_datetime</th>\n",
       "      <th>pickup_latitude</th>\n",
       "      <th>pickup_longitude</th>\n",
       "      <th>dropoff_latitude</th>\n",
       "      <th>dropoff_longitude</th>\n",
       "      <th>distance</th>\n",
       "    </tr>\n",
       "  </thead>\n",
       "  <tbody>\n",
       "    <tr>\n",
       "      <th>0</th>\n",
       "      <td>2009-01-01 01:15:22+00:00</td>\n",
       "      <td>40.779456</td>\n",
       "      <td>-73.981918</td>\n",
       "      <td>40.771043</td>\n",
       "      <td>-73.957685</td>\n",
       "      <td>163.115131</td>\n",
       "    </tr>\n",
       "    <tr>\n",
       "      <th>1</th>\n",
       "      <td>2009-01-01 01:59:17+00:00</td>\n",
       "      <td>40.721389</td>\n",
       "      <td>-73.983759</td>\n",
       "      <td>40.687179</td>\n",
       "      <td>-73.994833</td>\n",
       "      <td>228.884504</td>\n",
       "    </tr>\n",
       "    <tr>\n",
       "      <th>2</th>\n",
       "      <td>2009-01-01 02:05:03+00:00</td>\n",
       "      <td>40.771254</td>\n",
       "      <td>-73.956635</td>\n",
       "      <td>40.749778</td>\n",
       "      <td>-73.991528</td>\n",
       "      <td>260.423515</td>\n",
       "    </tr>\n",
       "    <tr>\n",
       "      <th>3</th>\n",
       "      <td>2009-01-01 02:09:13+00:00</td>\n",
       "      <td>40.728020</td>\n",
       "      <td>-73.984605</td>\n",
       "      <td>40.776830</td>\n",
       "      <td>-73.955746</td>\n",
       "      <td>360.883038</td>\n",
       "    </tr>\n",
       "    <tr>\n",
       "      <th>4</th>\n",
       "      <td>2009-01-01 02:13:41+00:00</td>\n",
       "      <td>40.737425</td>\n",
       "      <td>-73.980127</td>\n",
       "      <td>40.726025</td>\n",
       "      <td>-74.009544</td>\n",
       "      <td>199.959366</td>\n",
       "    </tr>\n",
       "  </tbody>\n",
       "</table>\n",
       "</div>"
      ],
      "text/plain": [
       "            pickup_datetime  pickup_latitude  pickup_longitude  \\\n",
       "0 2009-01-01 01:15:22+00:00        40.779456        -73.981918   \n",
       "1 2009-01-01 01:59:17+00:00        40.721389        -73.983759   \n",
       "2 2009-01-01 02:05:03+00:00        40.771254        -73.956635   \n",
       "3 2009-01-01 02:09:13+00:00        40.728020        -73.984605   \n",
       "4 2009-01-01 02:13:41+00:00        40.737425        -73.980127   \n",
       "\n",
       "   dropoff_latitude  dropoff_longitude    distance  \n",
       "0         40.771043         -73.957685  163.115131  \n",
       "1         40.687179         -73.994833  228.884504  \n",
       "2         40.749778         -73.991528  260.423515  \n",
       "3         40.776830         -73.955746  360.883038  \n",
       "4         40.726025         -74.009544  199.959366  "
      ]
     },
     "execution_count": 24,
     "metadata": {},
     "output_type": "execute_result"
    }
   ],
   "source": [
    "uber_data.head()"
   ]
  },
  {
   "cell_type": "markdown",
   "id": "45988ca4",
   "metadata": {},
   "source": [
    "### Processing Weather Data"
   ]
  },
  {
   "cell_type": "code",
   "execution_count": 25,
   "id": "e8983b0a",
   "metadata": {},
   "outputs": [],
   "source": [
    "def get_all_weather_csvs(directory):\n",
    "    filenames = os.listdir(directory)\n",
    "    return [os.path.join(directory, filename) for filename in filenames]"
   ]
  },
  {
   "cell_type": "code",
   "execution_count": 26,
   "id": "96db8170",
   "metadata": {},
   "outputs": [],
   "source": [
    "def clean_month_weather_data_hourly(csv_file):\n",
    "    df = pd.read_csv(csv_file, index_col=[0], low_memory=False)\n",
    "    df = df[[\"DATE\",\"HourlyWindSpeed\",\"HourlyPrecipitation\"]]\n",
    "\n",
    "    df[\"DATE\"] = pd.to_datetime(df[\"DATE\"])\n",
    "    df[\"HourlyPrecipitation\"] = pd.to_numeric(df[\"HourlyPrecipitation\"], errors = \"coerce\")\n",
    "    df[\"HourlyWindSpeed\"] = pd.to_numeric(df[\"HourlyWindSpeed\"], errors = \"coerce\")\n",
    "        \n",
    "    df = df.rename(columns={\"DATE\": \"weather_date\", \"HourlyWindSpeed\":\"wind_speed\", \"HourlyPrecipitation\":\"precipitation\"})\n",
    "    df = df.dropna().sort_values(by=\"weather_date\")\n",
    "    df.index = range(df.shape[0])\n",
    "    \n",
    "    return df"
   ]
  },
  {
   "cell_type": "code",
   "execution_count": 27,
   "id": "2436eb26",
   "metadata": {},
   "outputs": [],
   "source": [
    "def clean_month_weather_data_daily(csv_file):\n",
    "    hourly_df = clean_month_weather_data_hourly(csv_file)\n",
    "    hourly_df['weather_date'] = hourly_df['weather_date'].dt.date\n",
    "    daily_df = hourly_df.groupby([\"weather_date\"], as_index = False).agg({\"precipitation\":\"sum\",\"wind_speed\":\"mean\"})\n",
    "    daily_df['weather_date'] = pd.to_datetime(daily_df['weather_date'])\n",
    "    daily_df = daily_df.dropna().sort_values(by=\"weather_date\")\n",
    "    daily_df.index = range(daily_df.shape[0])\n",
    "    return daily_df"
   ]
  },
  {
   "cell_type": "code",
   "execution_count": 28,
   "id": "cb227382",
   "metadata": {},
   "outputs": [],
   "source": [
    "def load_and_clean_weather_data():\n",
    "    weather_csv_files = get_all_weather_csvs(WEATHER_CSV_DIR)\n",
    "    \n",
    "    hourly_dataframes = []\n",
    "    daily_dataframes = []\n",
    "        \n",
    "    for csv_file in weather_csv_files:\n",
    "        hourly_dataframe = clean_month_weather_data_hourly(csv_file)\n",
    "        daily_dataframe = clean_month_weather_data_daily(csv_file)\n",
    "        hourly_dataframes.append(hourly_dataframe)\n",
    "        daily_dataframes.append(daily_dataframe)\n",
    "        \n",
    "    # create two dataframes with hourly & daily data from every month\n",
    "    hourly_data = pd.concat(hourly_dataframes)\n",
    "    daily_data = pd.concat(daily_dataframes)\n",
    "    \n",
    "    return hourly_data, daily_data"
   ]
  },
  {
   "cell_type": "code",
   "execution_count": 29,
   "id": "1736818a",
   "metadata": {},
   "outputs": [],
   "source": [
    "hourly_weather_data, daily_weather_data = load_and_clean_weather_data()"
   ]
  },
  {
   "cell_type": "code",
   "execution_count": 30,
   "id": "d7edc65e",
   "metadata": {},
   "outputs": [
    {
     "data": {
      "text/html": [
       "<div>\n",
       "<style scoped>\n",
       "    .dataframe tbody tr th:only-of-type {\n",
       "        vertical-align: middle;\n",
       "    }\n",
       "\n",
       "    .dataframe tbody tr th {\n",
       "        vertical-align: top;\n",
       "    }\n",
       "\n",
       "    .dataframe thead th {\n",
       "        text-align: right;\n",
       "    }\n",
       "</style>\n",
       "<table border=\"1\" class=\"dataframe\">\n",
       "  <thead>\n",
       "    <tr style=\"text-align: right;\">\n",
       "      <th></th>\n",
       "      <th>weather_date</th>\n",
       "      <th>wind_speed</th>\n",
       "      <th>precipitation</th>\n",
       "    </tr>\n",
       "  </thead>\n",
       "  <tbody>\n",
       "    <tr>\n",
       "      <th>0</th>\n",
       "      <td>2009-01-06 19:51:00</td>\n",
       "      <td>9.0</td>\n",
       "      <td>0.01</td>\n",
       "    </tr>\n",
       "    <tr>\n",
       "      <th>1</th>\n",
       "      <td>2009-01-06 20:00:00</td>\n",
       "      <td>10.0</td>\n",
       "      <td>0.01</td>\n",
       "    </tr>\n",
       "    <tr>\n",
       "      <th>2</th>\n",
       "      <td>2009-01-06 20:44:00</td>\n",
       "      <td>8.0</td>\n",
       "      <td>0.02</td>\n",
       "    </tr>\n",
       "    <tr>\n",
       "      <th>3</th>\n",
       "      <td>2009-01-06 20:51:00</td>\n",
       "      <td>6.0</td>\n",
       "      <td>0.02</td>\n",
       "    </tr>\n",
       "    <tr>\n",
       "      <th>4</th>\n",
       "      <td>2009-01-06 22:51:00</td>\n",
       "      <td>9.0</td>\n",
       "      <td>0.01</td>\n",
       "    </tr>\n",
       "  </tbody>\n",
       "</table>\n",
       "</div>"
      ],
      "text/plain": [
       "         weather_date  wind_speed  precipitation\n",
       "0 2009-01-06 19:51:00         9.0           0.01\n",
       "1 2009-01-06 20:00:00        10.0           0.01\n",
       "2 2009-01-06 20:44:00         8.0           0.02\n",
       "3 2009-01-06 20:51:00         6.0           0.02\n",
       "4 2009-01-06 22:51:00         9.0           0.01"
      ]
     },
     "execution_count": 30,
     "metadata": {},
     "output_type": "execute_result"
    }
   ],
   "source": [
    "hourly_weather_data.head()"
   ]
  },
  {
   "cell_type": "code",
   "execution_count": 31,
   "id": "a0856278",
   "metadata": {},
   "outputs": [
    {
     "data": {
      "text/html": [
       "<div>\n",
       "<style scoped>\n",
       "    .dataframe tbody tr th:only-of-type {\n",
       "        vertical-align: middle;\n",
       "    }\n",
       "\n",
       "    .dataframe tbody tr th {\n",
       "        vertical-align: top;\n",
       "    }\n",
       "\n",
       "    .dataframe thead th {\n",
       "        text-align: right;\n",
       "    }\n",
       "</style>\n",
       "<table border=\"1\" class=\"dataframe\">\n",
       "  <thead>\n",
       "    <tr style=\"text-align: right;\">\n",
       "      <th></th>\n",
       "      <th>weather_date</th>\n",
       "      <th>precipitation</th>\n",
       "      <th>wind_speed</th>\n",
       "    </tr>\n",
       "  </thead>\n",
       "  <tbody>\n",
       "    <tr>\n",
       "      <th>0</th>\n",
       "      <td>2009-01-06</td>\n",
       "      <td>0.12</td>\n",
       "      <td>8.857143</td>\n",
       "    </tr>\n",
       "    <tr>\n",
       "      <th>1</th>\n",
       "      <td>2009-01-07</td>\n",
       "      <td>1.82</td>\n",
       "      <td>10.387097</td>\n",
       "    </tr>\n",
       "    <tr>\n",
       "      <th>2</th>\n",
       "      <td>2009-01-10</td>\n",
       "      <td>0.41</td>\n",
       "      <td>9.250000</td>\n",
       "    </tr>\n",
       "    <tr>\n",
       "      <th>3</th>\n",
       "      <td>2009-01-11</td>\n",
       "      <td>0.51</td>\n",
       "      <td>8.769231</td>\n",
       "    </tr>\n",
       "    <tr>\n",
       "      <th>4</th>\n",
       "      <td>2009-01-15</td>\n",
       "      <td>0.10</td>\n",
       "      <td>7.000000</td>\n",
       "    </tr>\n",
       "  </tbody>\n",
       "</table>\n",
       "</div>"
      ],
      "text/plain": [
       "  weather_date  precipitation  wind_speed\n",
       "0   2009-01-06           0.12    8.857143\n",
       "1   2009-01-07           1.82   10.387097\n",
       "2   2009-01-10           0.41    9.250000\n",
       "3   2009-01-11           0.51    8.769231\n",
       "4   2009-01-15           0.10    7.000000"
      ]
     },
     "execution_count": 31,
     "metadata": {},
     "output_type": "execute_result"
    }
   ],
   "source": [
    "daily_weather_data.head()"
   ]
  },
  {
   "cell_type": "markdown",
   "id": "1c69e282",
   "metadata": {},
   "source": [
    "## Part 2: Storing Cleaned Data\n",
    "take the sample datasets generated from Part 1, and populating a SQLite database with tables generated from the datasets\n"
   ]
  },
  {
   "cell_type": "code",
   "execution_count": 32,
   "id": "10f9b9d5",
   "metadata": {},
   "outputs": [],
   "source": [
    "engine = db.create_engine(DATABASE_URL)"
   ]
  },
  {
   "cell_type": "code",
   "execution_count": 33,
   "id": "f223e845",
   "metadata": {},
   "outputs": [],
   "source": [
    "# if using SQL (as opposed to SQLAlchemy), define the commands \n",
    "# to create your 4 tables/dataframes\n",
    "HOURLY_WEATHER_SCHEMA = \"\"\"\n",
    "CREATE TABLE IF NOT EXISTS hourly_weather (\n",
    "    id INTEGER PRIMARY KEY AUTOINCREMENT,\n",
    "    weather_date DATE,\n",
    "    wind_speed FLOAT,\n",
    "    precipitation FLOAT\n",
    ");\n",
    "\"\"\"\n",
    "\n",
    "DAILY_WEATHER_SCHEMA = \"\"\"\n",
    "CREATE TABLE IF NOT EXISTS daily_weather (\n",
    "    id INTEGER PRIMARY KEY AUTOINCREMENT,\n",
    "    weather_date DATE,\n",
    "    wind_speed FLOAT,\n",
    "    precipitation FLOAT\n",
    ");\n",
    "\"\"\"\n",
    "\n",
    "TAXI_TRIPS_SCHEMA = \"\"\"\n",
    "CREATE TABLE IF NOT EXISTS taxi_trips (\n",
    "    id INTEGER PRIMARY KEY AUTOINCREMENT,\n",
    "    pickup_datetime DATE,\n",
    "    pickup_longitude FLOAT,\n",
    "    pickup_latitude FLOAT,\n",
    "    dropoff_datetime DATE,\n",
    "    dropoff_longitude FLOAT,\n",
    "    dropoff_latitude FLOAT,\n",
    "    tip_amount FLOAT,\n",
    "    distance FLOAT\n",
    ");\n",
    "\"\"\"\n",
    "\n",
    "UBER_TRIPS_SCHEMA = \"\"\"\n",
    "CREATE TABLE IF NOT EXISTS uber_trips (\n",
    "    id INTEGER PRIMARY KEY AUTOINCREMENT,\n",
    "    pickup_datetime DATE,\n",
    "    pickup_longitude FLOAT,\n",
    "    pickup_latitude FLOAT,\n",
    "    dropoff_longitude FLOAT,\n",
    "    dropoff_latitude FLOAT,\n",
    "    distance FLOAT\n",
    ");\n",
    "\"\"\""
   ]
  },
  {
   "cell_type": "code",
   "execution_count": 34,
   "id": "da738750",
   "metadata": {},
   "outputs": [],
   "source": [
    "# create that required schema.sql file\n",
    "with open(DATABASE_SCHEMA_FILE, \"w\") as f:\n",
    "    f.write(HOURLY_WEATHER_SCHEMA)\n",
    "    f.write(DAILY_WEATHER_SCHEMA)\n",
    "    f.write(TAXI_TRIPS_SCHEMA)\n",
    "    f.write(UBER_TRIPS_SCHEMA)"
   ]
  },
  {
   "cell_type": "code",
   "execution_count": 35,
   "id": "6da8c4b1",
   "metadata": {},
   "outputs": [],
   "source": [
    "# create the tables with the schema files\n",
    "from sqlalchemy import text\n",
    "with engine.connect() as connection:\n",
    "    for query in [HOURLY_WEATHER_SCHEMA, DAILY_WEATHER_SCHEMA, TAXI_TRIPS_SCHEMA, UBER_TRIPS_SCHEMA]:\n",
    "        connection.execute(query)"
   ]
  },
  {
   "cell_type": "markdown",
   "id": "4fc850cc",
   "metadata": {},
   "source": [
    "### Add Data to Database"
   ]
  },
  {
   "cell_type": "code",
   "execution_count": 36,
   "id": "3f163160",
   "metadata": {},
   "outputs": [],
   "source": [
    "def write_dataframes_to_table(table_to_df_dict):\n",
    "    for tab in table_to_df_dict:\n",
    "        table_to_df_dict[tab].to_sql(tab, engine, if_exists='append', index=False)"
   ]
  },
  {
   "cell_type": "code",
   "execution_count": 38,
   "id": "d21bab57",
   "metadata": {},
   "outputs": [],
   "source": [
    "map_table_name_to_dataframe = {\n",
    "    \"taxi_trips\": taxi_data,\n",
    "    \"uber_trips\": uber_data,\n",
    "    \"hourly_weather\": hourly_weather_data,\n",
    "    \"daily_weather\": daily_weather_data,\n",
    "}"
   ]
  },
  {
   "cell_type": "code",
   "execution_count": 39,
   "id": "bd03c250",
   "metadata": {},
   "outputs": [],
   "source": [
    "write_dataframes_to_table(map_table_name_to_dataframe)"
   ]
  },
  {
   "cell_type": "markdown",
   "id": "95841bb4",
   "metadata": {},
   "source": [
    "## Part 3: Understanding the Data\n",
    "Craft a set of SQL queries to develop a better understanding of the datasets we’re working with."
   ]
  },
  {
   "cell_type": "code",
   "execution_count": 40,
   "id": "c73bff05",
   "metadata": {},
   "outputs": [],
   "source": [
    "# Helper function to write the queries to file\n",
    "def write_query_to_file(query, outfile):\n",
    "    with open(outfile, \"w\") as fp:\n",
    "        fp.write(query)"
   ]
  },
  {
   "cell_type": "markdown",
   "id": "56374598",
   "metadata": {},
   "source": [
    "### Query 1\n",
    "Show the popularity of Yellow Taxi rides for each hour of the day"
   ]
  },
  {
   "cell_type": "code",
   "execution_count": 41,
   "id": "9c0073b2",
   "metadata": {},
   "outputs": [],
   "source": [
    "QUERY_1_FILENAME = f\"{QUERY_DIRECTORY}/popularity_of_taxi_for_each_hour_of_day.sql\"\n",
    "\n",
    "QUERY_1 = \"\"\"\n",
    "SELECT Strftime(\"%H\", pickup_datetime),\n",
    "       Count(id)\n",
    "FROM   taxi_trips\n",
    "WHERE  pickup_datetime BETWEEN '2009-01-01' AND '2015-06-31'\n",
    "GROUP  BY Strftime(\"%H\", pickup_datetime)\n",
    "ORDER  BY Count(id) DESC \n",
    "\"\"\""
   ]
  },
  {
   "cell_type": "code",
   "execution_count": 42,
   "id": "463f1c5e",
   "metadata": {},
   "outputs": [
    {
     "data": {
      "text/plain": [
       "[('19', 12547),\n",
       " ('18', 12180),\n",
       " ('20', 11785),\n",
       " ('21', 11554),\n",
       " ('22', 10900),\n",
       " ('14', 10062),\n",
       " ('23', 9916),\n",
       " ('17', 9894),\n",
       " ('12', 9875),\n",
       " ('13', 9867),\n",
       " ('15', 9554),\n",
       " ('09', 9389),\n",
       " ('11', 9238),\n",
       " ('10', 9066),\n",
       " ('08', 8888),\n",
       " ('16', 8337),\n",
       " ('00', 7839),\n",
       " ('07', 7356),\n",
       " ('01', 5858),\n",
       " ('02', 4335),\n",
       " ('06', 4188),\n",
       " ('03', 3215),\n",
       " ('04', 2199),\n",
       " ('05', 1950)]"
      ]
     },
     "execution_count": 42,
     "metadata": {},
     "output_type": "execute_result"
    }
   ],
   "source": [
    "engine.execute(QUERY_1).fetchall()"
   ]
  },
  {
   "cell_type": "code",
   "execution_count": 43,
   "id": "4acd0b24",
   "metadata": {},
   "outputs": [],
   "source": [
    "write_query_to_file(QUERY_1, QUERY_1_FILENAME)"
   ]
  },
  {
   "cell_type": "markdown",
   "id": "2043df6b",
   "metadata": {},
   "source": [
    "### Query 2\n",
    "Show the popularity of Uber rides for each day of the week"
   ]
  },
  {
   "cell_type": "code",
   "execution_count": 44,
   "id": "71ba68f9",
   "metadata": {},
   "outputs": [],
   "source": [
    "QUERY_2_FILENAME = f\"{QUERY_DIRECTORY}/popularity_of_uber_for_each_day_of_week.sql\"\n",
    "\n",
    "QUERY_2 = \"\"\"\n",
    "SELECT Strftime(\"%w\", pickup_datetime),\n",
    "       Count(id)\n",
    "FROM   uber_trips\n",
    "WHERE  pickup_datetime BETWEEN '2009-01-01' AND '2015-06-31'\n",
    "GROUP  BY Strftime(\"%w\", pickup_datetime)\n",
    "ORDER  BY Count(id) DESC \n",
    "\"\"\""
   ]
  },
  {
   "cell_type": "code",
   "execution_count": 45,
   "id": "f73b07ab",
   "metadata": {},
   "outputs": [
    {
     "data": {
      "text/plain": [
       "[('5', 30166),\n",
       " ('6', 29599),\n",
       " ('4', 29338),\n",
       " ('3', 28328),\n",
       " ('2', 27526),\n",
       " ('0', 25834),\n",
       " ('1', 24681)]"
      ]
     },
     "execution_count": 45,
     "metadata": {},
     "output_type": "execute_result"
    }
   ],
   "source": [
    "engine.execute(QUERY_2).fetchall()"
   ]
  },
  {
   "cell_type": "code",
   "execution_count": 46,
   "id": "71778468",
   "metadata": {},
   "outputs": [],
   "source": [
    "write_query_to_file(QUERY_2, QUERY_2_FILENAME)"
   ]
  },
  {
   "cell_type": "markdown",
   "id": "737d2ac4",
   "metadata": {},
   "source": [
    "### Query 3\n",
    "The 95% percentile of distance traveled for all hired trips during July 2013"
   ]
  },
  {
   "cell_type": "code",
   "execution_count": 47,
   "id": "558ef756",
   "metadata": {},
   "outputs": [],
   "source": [
    "QUERY_3_FILENAME = f\"{QUERY_DIRECTORY}/95_percentile_distance_traveled_all_trips.sql\"\n",
    "\n",
    "QUERY_3 = \"\"\"\n",
    "WITH hired_trips AS\n",
    "(\n",
    "       SELECT pickup_datetime,\n",
    "              distance\n",
    "       FROM   taxi_trips\n",
    "       WHERE  pickup_datetime BETWEEN \"2013-07-01\" AND    \"2013-07-31\"\n",
    "       UNION ALL\n",
    "       SELECT pickup_datetime,\n",
    "              distance\n",
    "       FROM   uber_trips\n",
    "       WHERE  pickup_datetime BETWEEN \"2013-07-01\" AND    \"2013-07-31\")\n",
    "SELECT   distance\n",
    "FROM     hired_trips\n",
    "ORDER BY distance ASC limit 1 offset\n",
    "         (\n",
    "                SELECT count(distance)\n",
    "                FROM   hired_trips) * 95/100-1\n",
    "\"\"\""
   ]
  },
  {
   "cell_type": "code",
   "execution_count": 48,
   "id": "040bd809",
   "metadata": {},
   "outputs": [
    {
     "data": {
      "text/plain": [
       "[(452.7984729469768,)]"
      ]
     },
     "execution_count": 48,
     "metadata": {},
     "output_type": "execute_result"
    }
   ],
   "source": [
    "engine.execute(QUERY_3).fetchall()"
   ]
  },
  {
   "cell_type": "code",
   "execution_count": 49,
   "id": "817e5372",
   "metadata": {},
   "outputs": [],
   "source": [
    "write_query_to_file(QUERY_3, QUERY_3_FILENAME)"
   ]
  },
  {
   "cell_type": "markdown",
   "id": "caa02ab4",
   "metadata": {},
   "source": [
    "### Query 4\n",
    "Top 10 days with the highest number of hired rides for 2009, and the average distance for each day"
   ]
  },
  {
   "cell_type": "code",
   "execution_count": 50,
   "id": "29c41b86",
   "metadata": {},
   "outputs": [],
   "source": [
    "QUERY_4_FILENAME = f\"{QUERY_DIRECTORY}/top_10_days_with_highest_number_of_rides_for_2009.sql\"\n",
    "\n",
    "QUERY_4 = \"\"\"\n",
    "WITH hired_trips AS\n",
    "(\n",
    "       SELECT pickup_datetime,\n",
    "              distance\n",
    "       FROM   taxi_trips\n",
    "       WHERE  pickup_datetime BETWEEN \"2009-01-01\" AND    \"2009-12-31\"\n",
    "       UNION ALL\n",
    "       SELECT pickup_datetime,\n",
    "              distance\n",
    "       FROM   uber_trips\n",
    "       WHERE  pickup_datetime BETWEEN \"2009-01-01\" AND    \"2009-12-31\")\n",
    "SELECT   Date(pickup_datetime),\n",
    "         Count(*) ,\n",
    "         Avg(distance)\n",
    "FROM     hired_trips\n",
    "GROUP BY Date(pickup_datetime)\n",
    "ORDER BY Count(*) DESC limit 10\n",
    "\"\"\""
   ]
  },
  {
   "cell_type": "code",
   "execution_count": 51,
   "id": "f53051ce",
   "metadata": {},
   "outputs": [
    {
     "data": {
      "text/plain": [
       "[('2009-02-20', 224, 82.23257021229487),\n",
       " ('2009-01-31', 221, 91.42652681046106),\n",
       " ('2009-03-20', 218, 97.03680074259596),\n",
       " ('2009-11-06', 217, 116.49056179782326),\n",
       " ('2009-12-11', 215, 116.5450161318959),\n",
       " ('2009-01-24', 215, 73.68746981649544),\n",
       " ('2009-04-18', 210, 115.80794221579286),\n",
       " ('2009-01-27', 210, 92.95145514184942),\n",
       " ('2009-03-11', 207, 96.3803616267737),\n",
       " ('2009-11-13', 206, 74.48530471472817)]"
      ]
     },
     "execution_count": 51,
     "metadata": {},
     "output_type": "execute_result"
    }
   ],
   "source": [
    "engine.execute(QUERY_4).fetchall()"
   ]
  },
  {
   "cell_type": "code",
   "execution_count": 52,
   "id": "e7bf5784",
   "metadata": {},
   "outputs": [],
   "source": [
    "write_query_to_file(QUERY_4, QUERY_4_FILENAME)"
   ]
  },
  {
   "cell_type": "markdown",
   "id": "6a450726",
   "metadata": {},
   "source": [
    "### Query 5\n",
    "The windiest 10 days on average in 2014, and number of hired trips were made on those days"
   ]
  },
  {
   "cell_type": "code",
   "execution_count": 59,
   "id": "b3c310a4",
   "metadata": {},
   "outputs": [],
   "source": [
    "QUERY_5_FILENAME = f\"{QUERY_DIRECTORY}/top_10_windiest_days_and_trips_in_2014.sql\"\n",
    "\n",
    "QUERY_5 = \"\"\"\n",
    "WITH hired_trips AS\n",
    "(\n",
    "       SELECT Date(pickup_datetime) AS trip_date,\n",
    "              distance\n",
    "       FROM   taxi_trips\n",
    "       WHERE  pickup_datetime BETWEEN \"2014-01-01\" AND    \"2014-12-31\"\n",
    "       UNION ALL\n",
    "       SELECT Date(pickup_datetime),\n",
    "              distance\n",
    "       FROM   uber_trips\n",
    "       WHERE  pickup_datetime BETWEEN \"2014-01-01\" AND    \"2014-12-31\")\n",
    "SELECT     Date(weather_date),\n",
    "           wind_speed,\n",
    "           Count(*)\n",
    "FROM       daily_weather\n",
    "INNER JOIN hired_trips\n",
    "ON         Date(weather_date) = trip_date\n",
    "WHERE      Date(weather_date) BETWEEN \"2014-01-01\" AND        \"2014-12-31\"\n",
    "GROUP BY   Date(weather_date)\n",
    "ORDER BY   wind_speed DESC limit 10\n",
    "\"\"\""
   ]
  },
  {
   "cell_type": "code",
   "execution_count": 60,
   "id": "9900e198",
   "metadata": {},
   "outputs": [
    {
     "data": {
      "text/plain": [
       "[('2014-03-13', 14.130434782608695, 204),\n",
       " ('2014-01-07', 13.083333333333334, 152),\n",
       " ('2014-01-02', 12.521739130434783, 119),\n",
       " ('2014-02-13', 12.454545454545455, 125),\n",
       " ('2014-03-26', 11.954545454545455, 170),\n",
       " ('2014-03-29', 11.948717948717949, 189),\n",
       " ('2014-12-07', 11.826086956521738, 166),\n",
       " ('2014-12-09', 11.565217391304348, 186),\n",
       " ('2014-12-08', 11.5, 172),\n",
       " ('2014-11-02', 10.727272727272727, 156)]"
      ]
     },
     "execution_count": 60,
     "metadata": {},
     "output_type": "execute_result"
    }
   ],
   "source": [
    "engine.execute(QUERY_5).fetchall()"
   ]
  },
  {
   "cell_type": "code",
   "execution_count": 61,
   "id": "6ceed0d7",
   "metadata": {},
   "outputs": [],
   "source": [
    "write_query_to_file(QUERY_5, QUERY_5_FILENAME)"
   ]
  },
  {
   "cell_type": "markdown",
   "id": "e1ace0d5",
   "metadata": {},
   "source": [
    "### Query 6\n",
    "Trips are taken each hour, and for each hour,  precipitation are received by NYC and the sustained wind speed"
   ]
  },
  {
   "cell_type": "code",
   "execution_count": 68,
   "id": "a6bc04b3",
   "metadata": {},
   "outputs": [],
   "source": [
    "QUERY_6_FILENAME = f\"{QUERY_DIRECTORY}/number_of_trips_and_precipitation_and_wind_speed_in_hurricane.sql\"\n",
    "\n",
    "QUERY_6 = \"\"\"\n",
    "WITH hired_trips\n",
    "     AS (SELECT Strftime('%Y-%m-%d %H', pickup_datetime) AS trip_date,\n",
    "                distance\n",
    "         FROM   taxi_trips\n",
    "         WHERE  pickup_datetime BETWEEN \"2012-10-22\" AND \"2012-11-07\"\n",
    "         UNION ALL\n",
    "         SELECT Strftime('%Y-%m-%d %H', pickup_datetime),\n",
    "                distance\n",
    "         FROM   uber_trips\n",
    "         WHERE  pickup_datetime BETWEEN \"2012-10-22\" AND \"2012-11-07\")\n",
    "SELECT Strftime('%Y-%m-%d %H', weather_date),\n",
    "       COALESCE(Count(trip_date), 0),\n",
    "       precipitation,\n",
    "       wind_speed\n",
    "FROM   hourly_weather\n",
    "       INNER JOIN hired_trips\n",
    "               ON Strftime('%Y-%m-%d %H', weather_date) = trip_date\n",
    "WHERE  Strftime('%Y-%m-%d %H', weather_date) BETWEEN \"2012-10-22\" AND \"2012-11-07\"\n",
    "GROUP  BY Strftime('%Y-%m-%d %H', weather_date) \n",
    "\"\"\""
   ]
  },
  {
   "cell_type": "code",
   "execution_count": 69,
   "id": "da13ea52",
   "metadata": {},
   "outputs": [
    {
     "data": {
      "text/plain": [
       "[('2012-10-22 00', 3, 0.0, 7.0),\n",
       " ('2012-10-22 01', 2, 0.0, 5.0),\n",
       " ('2012-10-22 02', 1, 0.0, 7.0),\n",
       " ('2012-10-22 03', 2, 0.0, 0.0),\n",
       " ('2012-10-22 05', 3, 0.0, 0.0),\n",
       " ('2012-10-22 06', 7, 0.0, 5.0),\n",
       " ('2012-10-22 07', 7, 0.0, 3.0),\n",
       " ('2012-10-22 08', 7, 0.0, 3.0),\n",
       " ('2012-10-22 09', 6, 0.0, 5.0),\n",
       " ('2012-10-22 12', 9, 0.0, 11.0),\n",
       " ('2012-10-22 14', 9, 0.0, 7.0),\n",
       " ('2012-10-22 15', 7, 0.0, 6.0),\n",
       " ('2012-10-22 16', 11, 0.0, 3.0),\n",
       " ('2012-10-22 17', 8, 0.0, 7.0),\n",
       " ('2012-10-22 18', 16, 0.0, 5.0),\n",
       " ('2012-10-22 19', 6, 0.0, 5.0),\n",
       " ('2012-10-22 20', 11, 0.0, 3.0),\n",
       " ('2012-10-22 21', 6, 0.0, 0.0),\n",
       " ('2012-10-22 22', 13, 0.0, 3.0),\n",
       " ('2012-10-22 23', 2, 0.0, 3.0),\n",
       " ('2012-10-23 20', 16, 0.02, 0.0),\n",
       " ('2012-10-23 22', 13, 0.01, 0.0),\n",
       " ('2012-10-24 01', 4, 0.0, 5.0),\n",
       " ('2012-10-24 02', 5, 0.0, 5.0),\n",
       " ('2012-10-24 03', 1, 0.0, 7.0),\n",
       " ('2012-10-24 05', 3, 0.0, 6.0),\n",
       " ('2012-10-24 06', 1, 0.0, 3.0),\n",
       " ('2012-10-24 10', 6, 0.0, 7.0),\n",
       " ('2012-10-24 11', 8, 0.0, 7.0),\n",
       " ('2012-10-24 13', 9, 0.0, 8.0),\n",
       " ('2012-10-24 14', 5, 0.0, 7.0),\n",
       " ('2012-10-24 15', 10, 0.0, 7.0),\n",
       " ('2012-10-24 16', 7, 0.0, 8.0),\n",
       " ('2012-10-24 17', 10, 0.0, 5.0),\n",
       " ('2012-10-24 18', 7, 0.0, 7.0),\n",
       " ('2012-10-24 19', 9, 0.0, 8.0),\n",
       " ('2012-10-24 20', 19, 0.0, 3.0),\n",
       " ('2012-10-24 21', 12, 0.0, 5.0),\n",
       " ('2012-10-24 22', 16, 0.0, 6.0),\n",
       " ('2012-10-24 23', 5, 0.0, 0.0),\n",
       " ('2012-10-25 00', 8, 0.0, 3.0),\n",
       " ('2012-10-25 01', 2, 0.0, 3.0),\n",
       " ('2012-10-25 02', 3, 0.0, 3.0),\n",
       " ('2012-10-25 03', 1, 0.0, 7.0),\n",
       " ('2012-10-25 04', 2, 0.0, 6.0),\n",
       " ('2012-10-25 05', 2, 0.0, 0.0),\n",
       " ('2012-10-25 06', 8, 0.0, 5.0),\n",
       " ('2012-10-25 07', 8, 0.0, 6.0),\n",
       " ('2012-10-25 08', 11, 0.0, 5.0),\n",
       " ('2012-10-25 09', 8, 0.0, 3.0),\n",
       " ('2012-10-25 10', 9, 0.0, 6.0),\n",
       " ('2012-10-25 11', 11, 0.0, 0.0),\n",
       " ('2012-10-25 12', 12, 0.0, 6.0),\n",
       " ('2012-10-25 13', 8, 0.0, 0.0),\n",
       " ('2012-10-25 14', 7, 0.0, 5.0),\n",
       " ('2012-10-25 15', 7, 0.0, 5.0),\n",
       " ('2012-10-25 16', 7, 0.0, 0.0),\n",
       " ('2012-10-25 17', 11, 0.0, 3.0),\n",
       " ('2012-10-25 18', 7, 0.0, 0.0),\n",
       " ('2012-10-25 19', 7, 0.0, 0.0),\n",
       " ('2012-10-25 20', 16, 0.0, 3.0),\n",
       " ('2012-10-25 21', 16, 0.0, 3.0),\n",
       " ('2012-10-25 22', 10, 0.0, 3.0),\n",
       " ('2012-10-25 23', 9, 0.0, 0.0),\n",
       " ('2012-10-26 00', 4, 0.0, 5.0),\n",
       " ('2012-10-26 01', 3, 0.0, 0.0),\n",
       " ('2012-10-26 02', 6, 0.0, 0.0),\n",
       " ('2012-10-26 03', 3, 0.0, 3.0),\n",
       " ('2012-10-26 04', 4, 0.0, 0.0),\n",
       " ('2012-10-26 05', 1, 0.0, 0.0),\n",
       " ('2012-10-26 06', 2, 0.0, 0.0),\n",
       " ('2012-10-26 07', 6, 0.0, 3.0),\n",
       " ('2012-10-26 08', 2, 0.0, 3.0),\n",
       " ('2012-10-26 09', 10, 0.0, 3.0),\n",
       " ('2012-10-26 10', 6, 0.0, 3.0),\n",
       " ('2012-10-26 11', 6, 0.0, 3.0),\n",
       " ('2012-10-26 12', 3, 0.0, 0.0),\n",
       " ('2012-10-26 13', 10, 0.0, 3.0),\n",
       " ('2012-10-26 14', 8, 0.0, 3.0),\n",
       " ('2012-10-26 15', 8, 0.0, 0.0),\n",
       " ('2012-10-26 16', 5, 0.0, 0.0),\n",
       " ('2012-10-26 17', 8, 0.0, 0.0),\n",
       " ('2012-10-26 18', 10, 0.0, 0.0),\n",
       " ('2012-10-26 19', 8, 0.0, 0.0),\n",
       " ('2012-10-26 20', 13, 0.0, 3.0),\n",
       " ('2012-10-26 21', 9, 0.0, 3.0),\n",
       " ('2012-10-26 22', 14, 0.0, 0.0),\n",
       " ('2012-10-26 23', 9, 0.0, 0.0),\n",
       " ('2012-10-27 00', 8, 0.0, 3.0),\n",
       " ('2012-10-27 01', 9, 0.0, 0.0),\n",
       " ('2012-10-27 02', 9, 0.0, 3.0),\n",
       " ('2012-10-27 03', 8, 0.0, 0.0),\n",
       " ('2012-10-27 04', 1, 0.0, 6.0),\n",
       " ('2012-10-27 05', 7, 0.0, 6.0),\n",
       " ('2012-10-27 06', 1, 0.0, 6.0),\n",
       " ('2012-10-27 07', 2, 0.0, 3.0),\n",
       " ('2012-10-27 09', 8, 0.0, 6.0),\n",
       " ('2012-10-27 10', 3, 0.0, 9.0),\n",
       " ('2012-10-27 11', 3, 0.0, 6.0),\n",
       " ('2012-10-27 12', 10, 0.0, 8.0),\n",
       " ('2012-10-27 13', 8, 0.0, 8.0),\n",
       " ('2012-10-27 14', 5, 0.0, 10.0),\n",
       " ('2012-10-27 15', 8, 0.0, 10.0),\n",
       " ('2012-10-27 16', 12, 0.0, 7.0),\n",
       " ('2012-10-27 17', 14, 0.0, 7.0),\n",
       " ('2012-10-27 18', 12, 0.0, 7.0),\n",
       " ('2012-10-27 19', 7, 0.0, 9.0),\n",
       " ('2012-10-27 20', 16, 0.0, 7.0),\n",
       " ('2012-10-27 21', 10, 0.0, 9.0),\n",
       " ('2012-10-27 22', 11, 0.0, 9.0),\n",
       " ('2012-10-27 23', 16, 0.0, 8.0),\n",
       " ('2012-10-28 00', 14, 0.0, 11.0),\n",
       " ('2012-10-28 01', 14, 0.0, 8.0),\n",
       " ('2012-10-28 02', 5, 0.0, 8.0),\n",
       " ('2012-10-28 03', 7, 0.0, 9.0),\n",
       " ('2012-10-28 04', 7, 0.0, 10.0),\n",
       " ('2012-10-28 05', 1, 0.0, 11.0),\n",
       " ('2012-10-28 06', 1, 0.0, 10.0),\n",
       " ('2012-10-28 07', 6, 0.0, 11.0),\n",
       " ('2012-10-28 08', 3, 0.0, 11.0),\n",
       " ('2012-10-28 09', 5, 0.0, 11.0),\n",
       " ('2012-10-28 10', 6, 0.0, 10.0),\n",
       " ('2012-10-28 11', 8, 0.0, 8.0),\n",
       " ('2012-10-28 12', 6, 0.0, 7.0),\n",
       " ('2012-10-28 13', 8, 0.0, 13.0),\n",
       " ('2012-10-28 14', 11, 0.0, 13.0),\n",
       " ('2012-10-28 15', 9, 0.0, 13.0),\n",
       " ('2012-10-28 16', 6, 0.0, 16.0),\n",
       " ('2012-10-28 17', 8, 0.0, 11.0),\n",
       " ('2012-10-28 18', 6, 0.0, 15.0),\n",
       " ('2012-10-28 19', 6, 0.0, 14.0),\n",
       " ('2012-10-28 20', 5, 0.0, 16.0),\n",
       " ('2012-10-28 21', 5, 0.0, 14.0),\n",
       " ('2012-10-28 22', 3, 0.0, 16.0),\n",
       " ('2012-10-28 23', 1, 0.0, 14.0),\n",
       " ('2012-10-29 00', 1, 0.0, 16.0),\n",
       " ('2012-10-29 02', 2, 0.0, 13.0),\n",
       " ('2012-10-29 03', 1, 0.0, 17.0),\n",
       " ('2012-10-29 04', 1, 0.0, 15.0),\n",
       " ('2012-10-29 07', 4, 0.02, 17.0),\n",
       " ('2012-10-29 09', 1, 0.0, 16.0),\n",
       " ('2012-10-29 11', 10, 0.01, 15.0),\n",
       " ('2012-10-29 12', 30, 0.02, 15.0),\n",
       " ('2012-10-29 13', 9, 0.02, 24.0),\n",
       " ('2012-10-29 14', 15, 0.03, 23.0),\n",
       " ('2012-10-29 15', 8, 0.07, 26.0),\n",
       " ('2012-10-29 17', 4, 0.04, 29.0),\n",
       " ('2012-10-29 18', 10, 0.02, 21.0),\n",
       " ('2012-10-29 19', 1, 0.01, 25.0),\n",
       " ('2012-10-29 21', 1, 0.0, 15.0),\n",
       " ('2012-10-30 00', 4, 0.03, 13.0),\n",
       " ('2012-10-30 08', 2, 0.01, 11.0),\n",
       " ('2012-10-30 09', 9, 0.01, 15.0),\n",
       " ('2012-10-30 10', 15, 0.02, 8.0),\n",
       " ('2012-10-30 11', 7, 0.0, 7.0),\n",
       " ('2012-10-30 12', 3, 0.0, 7.0),\n",
       " ('2012-10-30 13', 3, 0.0, 6.0),\n",
       " ('2012-10-30 16', 15, 0.01, 3.0),\n",
       " ('2012-10-30 17', 5, 0.0, 5.0),\n",
       " ('2012-10-30 18', 3, 0.0, 5.0),\n",
       " ('2012-10-30 19', 5, 0.0, 3.0),\n",
       " ('2012-10-30 20', 3, 0.0, 7.0),\n",
       " ('2012-10-30 21', 2, 0.0, 5.0),\n",
       " ('2012-10-30 22', 4, 0.0, 7.0),\n",
       " ('2012-10-30 23', 3, 0.0, 9.0),\n",
       " ('2012-10-31 01', 1, 0.01, 5.0),\n",
       " ('2012-10-31 06', 3, 0.0, 6.0),\n",
       " ('2012-10-31 07', 4, 0.0, 8.0),\n",
       " ('2012-10-31 08', 3, 0.0, 7.0),\n",
       " ('2012-10-31 09', 6, 0.0, 8.0),\n",
       " ('2012-10-31 10', 6, 0.0, 3.0),\n",
       " ('2012-10-31 11', 5, 0.0, 5.0),\n",
       " ('2012-10-31 12', 2, 0.0, 3.0),\n",
       " ('2012-10-31 13', 6, 0.0, 6.0),\n",
       " ('2012-10-31 14', 7, 0.0, 5.0),\n",
       " ('2012-10-31 15', 5, 0.0, 3.0),\n",
       " ('2012-10-31 16', 4, 0.0, 5.0),\n",
       " ('2012-10-31 17', 3, 0.0, 5.0),\n",
       " ('2012-10-31 18', 7, 0.0, 3.0),\n",
       " ('2012-10-31 19', 8, 0.0, 9.0),\n",
       " ('2012-10-31 20', 7, 0.0, 7.0),\n",
       " ('2012-10-31 21', 7, 0.0, 7.0),\n",
       " ('2012-10-31 22', 7, 0.0, 6.0),\n",
       " ('2012-10-31 23', 5, 0.0, 3.0),\n",
       " ('2012-11-01 00', 5, 0.0, 3.0),\n",
       " ('2012-11-01 01', 2, 0.0, 3.0),\n",
       " ('2012-11-01 04', 1, 0.0, 7.0),\n",
       " ('2012-11-01 05', 1, 0.0, 6.0),\n",
       " ('2012-11-01 06', 1, 0.0, 13.0),\n",
       " ('2012-11-01 08', 4, 0.0, 7.0),\n",
       " ('2012-11-01 09', 5, 0.0, 3.0),\n",
       " ('2012-11-01 10', 9, 0.0, 6.0),\n",
       " ('2012-11-01 11', 10, 0.0, 6.0),\n",
       " ('2012-11-01 12', 8, 0.0, 11.0),\n",
       " ('2012-11-01 13', 6, 0.0, 8.0),\n",
       " ('2012-11-01 14', 6, 0.0, 8.0),\n",
       " ('2012-11-01 16', 6, 0.0, 5.0),\n",
       " ('2012-11-01 17', 3, 0.0, 5.0),\n",
       " ('2012-11-01 18', 8, 0.0, 9.0),\n",
       " ('2012-11-01 19', 10, 0.0, 3.0),\n",
       " ('2012-11-01 20', 7, 0.0, 5.0),\n",
       " ('2012-11-01 21', 3, 0.0, 8.0),\n",
       " ('2012-11-01 22', 8, 0.0, 5.0),\n",
       " ('2012-11-01 23', 2, 0.0, 0.0),\n",
       " ('2012-11-02 00', 7, 0.0, 5.0),\n",
       " ('2012-11-02 01', 2, 0.0, 7.0),\n",
       " ('2012-11-02 02', 3, 0.0, 3.0),\n",
       " ('2012-11-02 03', 1, 0.0, 3.0),\n",
       " ('2012-11-02 04', 2, 0.0, 5.0),\n",
       " ('2012-11-02 05', 2, 0.0, 5.0),\n",
       " ('2012-11-02 06', 2, 0.0, 6.0),\n",
       " ('2012-11-02 08', 6, 0.0, 5.0),\n",
       " ('2012-11-02 10', 3, 0.0, 9.0),\n",
       " ('2012-11-02 11', 5, 0.0, 7.0),\n",
       " ('2012-11-02 12', 3, 0.0, 7.0),\n",
       " ('2012-11-02 13', 4, 0.0, 6.0),\n",
       " ('2012-11-02 14', 6, 0.0, 6.0),\n",
       " ('2012-11-02 15', 6, 0.0, 5.0),\n",
       " ('2012-11-02 16', 6, 0.0, 11.0),\n",
       " ('2012-11-02 17', 4, 0.0, 8.0),\n",
       " ('2012-11-02 18', 3, 0.0, 9.0),\n",
       " ('2012-11-02 19', 7, 0.0, 7.0),\n",
       " ('2012-11-02 20', 8, 0.0, 9.0),\n",
       " ('2012-11-02 21', 9, 0.0, 7.0),\n",
       " ('2012-11-02 22', 8, 0.0, 8.0),\n",
       " ('2012-11-02 23', 7, 0.0, 8.0),\n",
       " ('2012-11-03 00', 12, 0.0, 7.0),\n",
       " ('2012-11-03 01', 4, 0.0, 7.0),\n",
       " ('2012-11-03 02', 7, 0.0, 7.0),\n",
       " ('2012-11-03 03', 2, 0.0, 7.0),\n",
       " ('2012-11-03 05', 1, 0.0, 8.0),\n",
       " ('2012-11-03 06', 5, 0.0, 7.0),\n",
       " ('2012-11-03 07', 2, 0.0, 6.0),\n",
       " ('2012-11-03 08', 3, 0.0, 10.0),\n",
       " ('2012-11-03 09', 6, 0.0, 13.0),\n",
       " ('2012-11-03 10', 7, 0.0, 6.0),\n",
       " ('2012-11-03 11', 11, 0.0, 13.0),\n",
       " ('2012-11-03 12', 9, 0.0, 13.0),\n",
       " ('2012-11-03 13', 3, 0.0, 8.0),\n",
       " ('2012-11-03 14', 9, 0.0, 8.0),\n",
       " ('2012-11-03 15', 6, 0.0, 7.0),\n",
       " ('2012-11-03 16', 4, 0.0, 10.0),\n",
       " ('2012-11-03 17', 12, 0.0, 9.0),\n",
       " ('2012-11-03 18', 12, 0.0, 9.0),\n",
       " ('2012-11-03 19', 8, 0.0, 13.0),\n",
       " ('2012-11-03 20', 7, 0.0, 10.0),\n",
       " ('2012-11-03 21', 13, 0.0, 9.0),\n",
       " ('2012-11-03 22', 13, 0.0, 0.0),\n",
       " ('2012-11-03 23', 15, 0.0, 7.0),\n",
       " ('2012-11-04 00', 9, 0.0, 9.0),\n",
       " ('2012-11-04 01', 15, 0.0, 7.0),\n",
       " ('2012-11-04 02', 10, 0.0, 7.0),\n",
       " ('2012-11-04 03', 3, 0.0, 7.0),\n",
       " ('2012-11-04 04', 4, 0.0, 8.0),\n",
       " ('2012-11-04 05', 2, 0.0, 6.0),\n",
       " ('2012-11-04 07', 1, 0.0, 3.0),\n",
       " ('2012-11-04 08', 6, 0.0, 7.0),\n",
       " ('2012-11-04 09', 4, 0.0, 9.0),\n",
       " ('2012-11-04 11', 9, 0.0, 6.0),\n",
       " ('2012-11-04 12', 10, 0.0, 8.0),\n",
       " ('2012-11-04 13', 7, 0.0, 8.0),\n",
       " ('2012-11-04 14', 6, 0.0, 7.0),\n",
       " ('2012-11-04 15', 7, 0.0, 7.0),\n",
       " ('2012-11-04 16', 11, 0.0, 5.0),\n",
       " ('2012-11-04 17', 9, 0.0, 5.0),\n",
       " ('2012-11-04 19', 12, 0.0, 7.0),\n",
       " ('2012-11-04 21', 4, 0.0, 7.0),\n",
       " ('2012-11-04 22', 6, 0.0, 6.0),\n",
       " ('2012-11-04 23', 4, 0.0, 5.0),\n",
       " ('2012-11-05 00', 4, 0.0, 0.0),\n",
       " ('2012-11-05 01', 1, 0.0, 5.0),\n",
       " ('2012-11-05 05', 1, 0.0, 6.0),\n",
       " ('2012-11-05 06', 4, 0.0, 8.0),\n",
       " ('2012-11-05 07', 3, 0.0, 6.0),\n",
       " ('2012-11-05 08', 8, 0.0, 7.0),\n",
       " ('2012-11-05 09', 9, 0.0, 3.0),\n",
       " ('2012-11-05 10', 11, 0.0, 3.0),\n",
       " ('2012-11-05 11', 7, 0.0, 3.0),\n",
       " ('2012-11-05 12', 8, 0.0, 5.0),\n",
       " ('2012-11-05 13', 11, 0.0, 3.0),\n",
       " ('2012-11-05 15', 7, 0.0, 8.0),\n",
       " ('2012-11-05 17', 21, 0.0, 5.0),\n",
       " ('2012-11-05 18', 13, 0.0, 5.0),\n",
       " ('2012-11-05 19', 8, 0.0, 0.0),\n",
       " ('2012-11-05 20', 10, 0.0, 3.0),\n",
       " ('2012-11-05 21', 10, 0.0, 7.0),\n",
       " ('2012-11-05 22', 4, 0.0, 6.0),\n",
       " ('2012-11-05 23', 5, 0.0, 9.0),\n",
       " ('2012-11-06 00', 4, 0.0, 6.0),\n",
       " ('2012-11-06 01', 1, 0.0, 5.0),\n",
       " ('2012-11-06 02', 3, 0.0, 8.0),\n",
       " ('2012-11-06 03', 2, 0.0, 10.0),\n",
       " ('2012-11-06 04', 1, 0.0, 6.0),\n",
       " ('2012-11-06 05', 4, 0.0, 5.0),\n",
       " ('2012-11-06 06', 2, 0.0, 7.0),\n",
       " ('2012-11-06 07', 11, 0.0, 7.0),\n",
       " ('2012-11-06 08', 9, 0.0, 8.0),\n",
       " ('2012-11-06 09', 6, 0.0, 3.0),\n",
       " ('2012-11-06 10', 7, 0.0, 6.0),\n",
       " ('2012-11-06 11', 4, 0.0, 7.0),\n",
       " ('2012-11-06 12', 9, 0.0, 5.0),\n",
       " ('2012-11-06 13', 10, 0.0, 0.0),\n",
       " ('2012-11-06 14', 10, 0.0, 6.0),\n",
       " ('2012-11-06 15', 8, 0.0, 6.0),\n",
       " ('2012-11-06 16', 7, 0.0, 5.0),\n",
       " ('2012-11-06 17', 13, 0.0, 5.0),\n",
       " ('2012-11-06 18', 11, 0.0, 3.0),\n",
       " ('2012-11-06 19', 16, 0.0, 3.0),\n",
       " ('2012-11-06 20', 9, 0.0, 7.0),\n",
       " ('2012-11-06 21', 8, 0.0, 7.0),\n",
       " ('2012-11-06 22', 11, 0.0, 7.0),\n",
       " ('2012-11-06 23', 7, 0.0, 3.0)]"
      ]
     },
     "execution_count": 69,
     "metadata": {},
     "output_type": "execute_result"
    }
   ],
   "source": [
    "engine.execute(QUERY_6).fetchall()"
   ]
  },
  {
   "cell_type": "code",
   "execution_count": 70,
   "id": "ecfcc520",
   "metadata": {},
   "outputs": [],
   "source": [
    "write_query_to_file(QUERY_6, QUERY_6_FILENAME)"
   ]
  },
  {
   "cell_type": "markdown",
   "id": "ef90020e",
   "metadata": {},
   "source": [
    "## Part 4: Visualizing the Data\n",
    "\n",
    "Create visualizations to enhance the understanding of the datasets."
   ]
  },
  {
   "cell_type": "markdown",
   "id": "3b941d4f",
   "metadata": {},
   "source": [
    "### Visualization 1\n",
    "Create an appropriate visualization for the first query/question in part 3"
   ]
  },
  {
   "cell_type": "code",
   "execution_count": 71,
   "id": "06dcda2f",
   "metadata": {},
   "outputs": [],
   "source": [
    "def plot_visual_popularity_of_taxi_for_each_hour_of_day(dataframe):\n",
    "    fig = plt.figure(figsize=(8, 6))\n",
    "    \n",
    "    plt.plot(dataframe.iloc[:,0], dataframe.iloc[:,1], 'ro-')\n",
    "    \n",
    "    plt.xlabel('Hours')\n",
    "    plt.ylabel('Popularity')\n",
    "    plt.title('The popularity of Yellow Taxi rides for each hour of the day') \n",
    "    \n",
    "    plt.show()"
   ]
  },
  {
   "cell_type": "code",
   "execution_count": 72,
   "id": "7b03c7cd",
   "metadata": {},
   "outputs": [],
   "source": [
    "def get_data_for_popularity_of_taxi_for_each_hour_of_day():\n",
    "    query = \"\"\"\n",
    "    SELECT Strftime(\"%H\", pickup_datetime),\n",
    "           Count(id)\n",
    "    FROM   taxi_trips\n",
    "    WHERE  pickup_datetime BETWEEN '2009-01-01' AND '2015-06-31'\n",
    "    GROUP  BY Strftime(\"%H\", pickup_datetime)\n",
    "    ORDER  BY Strftime(\"%H\", pickup_datetime) ASC\n",
    "    \"\"\"\n",
    "    return pd.read_sql_query(query, engine)"
   ]
  },
  {
   "cell_type": "code",
   "execution_count": 73,
   "id": "e66cfc87",
   "metadata": {},
   "outputs": [
    {
     "data": {
      "image/png": "[encoded data removed]",
      "text/plain": [
       "<Figure size 800x600 with 1 Axes>"
      ]
     },
     "metadata": {},
     "output_type": "display_data"
    }
   ],
   "source": [
    "dataframe_v1 = get_data_for_popularity_of_taxi_for_each_hour_of_day()\n",
    "plot_visual_popularity_of_taxi_for_each_hour_of_day(dataframe_v1)"
   ]
  },
  {
   "cell_type": "markdown",
   "id": "b9088873",
   "metadata": {},
   "source": [
    "### Visualization 2\n",
    "Create a visualization that shows the average distance traveled per month"
   ]
  },
  {
   "cell_type": "code",
   "execution_count": 74,
   "id": "e6a3afd6",
   "metadata": {},
   "outputs": [],
   "source": [
    "def plot_visual_average_distance_traveled_per_month(dataframe):\n",
    "    fig = plt.figure(figsize=(8, 6))\n",
    "    x, y = dataframe.iloc[:,0], dataframe.iloc[:,1]\n",
    "    ci = 1.645 * y.std()/(dataframe.shape[0] ** 0.5)\n",
    "    \n",
    "    plt.plot(x, y, 'ro-')\n",
    "    plt.fill_between(x, (y-ci), (y+ci), color='b', alpha=.1)\n",
    "    \n",
    "    plt.xlabel('Months')\n",
    "    plt.ylabel('Average Distance Traveled')\n",
    "    plt.title('The average distance traveled per month for both taxis and Ubers combined') \n",
    "    \n",
    "    plt.show()"
   ]
  },
  {
   "cell_type": "code",
   "execution_count": 75,
   "id": "e478c92b",
   "metadata": {},
   "outputs": [],
   "source": [
    "def get_data_for_average_distance_traveled_per_month():\n",
    "    query = \"\"\"\n",
    "    WITH hired_trips\n",
    "     AS (SELECT Strftime('%m', pickup_datetime) AS trip_date,\n",
    "                distance\n",
    "         FROM   taxi_trips\n",
    "         UNION ALL\n",
    "         SELECT Strftime('%m', pickup_datetime),\n",
    "                distance\n",
    "         FROM   uber_trips)\n",
    "    SELECT trip_date, AVG(distance) FROM hired_trips\n",
    "    GROUP BY trip_date\n",
    "    ORDER BY trip_date ASC\n",
    "    \"\"\"\n",
    "    return pd.read_sql_query(query, engine)"
   ]
  },
  {
   "cell_type": "code",
   "execution_count": 76,
   "id": "265e17f8",
   "metadata": {},
   "outputs": [
    {
     "data": {
      "image/png": "[encoded data removed]",
      "text/plain": [
       "<Figure size 800x600 with 1 Axes>"
      ]
     },
     "metadata": {},
     "output_type": "display_data"
    }
   ],
   "source": [
    "dataframe_v2 = get_data_for_average_distance_traveled_per_month()\n",
    "plot_visual_average_distance_traveled_per_month(dataframe_v2)"
   ]
  },
  {
   "cell_type": "markdown",
   "id": "5bec38e1",
   "metadata": {},
   "source": [
    "### Visualization 3\n",
    "Create a visualization that compares what day of the week was most popular for drop offs for each airport."
   ]
  },
  {
   "cell_type": "code",
   "execution_count": 80,
   "id": "0d820b88",
   "metadata": {},
   "outputs": [],
   "source": [
    "def plot_visual_most_popular_drop_offs_for_each_airport(df):\n",
    "    fig = plt.figure(figsize=(8, 6))\n",
    "    markers = {\"LGA\":\"ro-\", \"JFK\":\"gd--\", \"EWR\":\"bs-.\"}\n",
    "    for airport in df:\n",
    "        dataframe = df[airport]\n",
    "        x, y = dataframe.iloc[:,0], dataframe.iloc[:,1]\n",
    "        plt.plot(x, y, markers[airport], label=airport)\n",
    "    \n",
    "    plt.xlabel('Days')\n",
    "    plt.ylabel('Most popular drop offs')\n",
    "    plt.legend()\n",
    "    plt.title('The most popular for drop offs for each airport') \n",
    "    \n",
    "    plt.show()"
   ]
  },
  {
   "cell_type": "code",
   "execution_count": 81,
   "id": "a22e6a41",
   "metadata": {},
   "outputs": [],
   "source": [
    "def get_data_for_most_popular_drop_offs_for_each_airport():\n",
    "    \n",
    "    NEW_YORK_BOX_COORDS = ((40.560445, -74.242330), (40.908524, -73.717047))\n",
    "    LGA_BOX_COORDS = ((40.763589, -73.891745), (40.778865, -73.854838))\n",
    "    JFK_BOX_COORDS = ((40.639263, -73.795642), (40.651376, -73.766264))\n",
    "    EWR_BOX_COORDS = ((40.686794, -74.194028), (40.699680, -74.165205))\n",
    "    \n",
    "    boxes = {\"LGA\":LGA_BOX_COORDS, \"JFK\":JFK_BOX_COORDS, \"EWR\":EWR_BOX_COORDS}\n",
    "    \n",
    "    df = {}\n",
    "    for airport in boxes:\n",
    "        coords = boxes[airport]\n",
    "        lower_lat, lower_long = coords[0]\n",
    "        upper_lat, upper_long = coords[1]\n",
    "        \n",
    "\n",
    "        query = f\"\"\"\n",
    "        WITH hired_trips\n",
    "         AS (SELECT Strftime('%w', pickup_datetime) AS trip_date,\n",
    "                    dropoff_longitude, dropoff_latitude\n",
    "             FROM   taxi_trips\n",
    "             UNION ALL\n",
    "             SELECT Strftime('%w', pickup_datetime),\n",
    "                    dropoff_longitude, dropoff_latitude\n",
    "             FROM   uber_trips)\n",
    "        SELECT trip_date, COUNT(*) FROM hired_trips\n",
    "        WHERE dropoff_longitude BETWEEN {lower_long} AND {upper_long} AND dropoff_latitude BETWEEN {lower_lat} AND {upper_lat}\n",
    "        GROUP BY trip_date\n",
    "        \"\"\"\n",
    "        df[airport]=pd.read_sql_query(query, engine)\n",
    "        \n",
    "    return df"
   ]
  },
  {
   "cell_type": "code",
   "execution_count": 82,
   "id": "fdd35a2a",
   "metadata": {},
   "outputs": [
    {
     "data": {
      "image/png": "[encoded data removed]",
      "text/plain": [
       "<Figure size 800x600 with 1 Axes>"
      ]
     },
     "metadata": {},
     "output_type": "display_data"
    }
   ],
   "source": [
    "dataframe_v3 = get_data_for_most_popular_drop_offs_for_each_airport()\n",
    "plot_visual_most_popular_drop_offs_for_each_airport(dataframe_v3)"
   ]
  },
  {
   "cell_type": "markdown",
   "id": "95cfecb7",
   "metadata": {},
   "source": [
    "### Visualization 4\n",
    "Create a heatmap of all hired trips over a map of the area"
   ]
  },
  {
   "cell_type": "code",
   "execution_count": 83,
   "id": "69e10ee8",
   "metadata": {},
   "outputs": [],
   "source": [
    "def plot_visual_heatmap_of_all_hired_trips(dataframe):\n",
    "    heatmap = KeplerGl(height = 400)\n",
    "    heatmap.add_data(data = dataframe)\n",
    "    display(heatmap)"
   ]
  },
  {
   "cell_type": "code",
   "execution_count": 84,
   "id": "a9aedec7",
   "metadata": {},
   "outputs": [],
   "source": [
    "def get_data_for_heatmap_of_all_hired_trips():\n",
    "    query = \"\"\"\n",
    "    WITH hired_trips\n",
    "     AS (SELECT pickup_longitude AS longitude, pickup_latitude AS latitude\n",
    "         FROM   taxi_trips\n",
    "         UNION ALL\n",
    "         SELECT pickup_longitude AS longitude, pickup_latitude AS latitude\n",
    "         FROM   uber_trips)\n",
    "    SELECT * FROM hired_trips\n",
    "    \"\"\"\n",
    "    return pd.read_sql_query(query, engine)"
   ]
  },
  {
   "cell_type": "code",
   "execution_count": 85,
   "id": "2b9e1267",
   "metadata": {},
   "outputs": [
    {
     "name": "stdout",
     "output_type": "stream",
     "text": [
      "User Guide: https://docs.kepler.gl/docs/keplergl-jupyter\n"
     ]
    },
    {
     "data": {
      "application/vnd.jupyter.widget-view+json": {
       "model_id": "8d2a8cfe5b884e88b9649577d93e4d6a",
       "version_major": 2,
       "version_minor": 0
      },
      "text/plain": [
       "KeplerGl(data={'unnamed': {'index': [0, 1, 2, 3, 4, 5, 6, 7, 8, 9, 10, 11, 12, 13, 14, 15, 16, 17, 18, 19, 20,…"
      ]
     },
     "metadata": {},
     "output_type": "display_data"
    }
   ],
   "source": [
    "dataframe_v4 = get_data_for_heatmap_of_all_hired_trips()\n",
    "plot_visual_heatmap_of_all_hired_trips(dataframe_v4)"
   ]
  },
  {
   "cell_type": "markdown",
   "id": "63803c83",
   "metadata": {},
   "source": [
    "### Visualization 5\n",
    "Create a scatter plot that compares tip amount versus distance for Yellow Taxi rides"
   ]
  },
  {
   "cell_type": "code",
   "execution_count": 86,
   "id": "c92ef5c2",
   "metadata": {},
   "outputs": [],
   "source": [
    "def plot_visual_compares_tip_amount_versus_distance(dataframe):\n",
    "    fig = plt.figure(figsize=(8, 6))\n",
    "\n",
    "    x, y = dataframe.iloc[:,0], dataframe.iloc[:,1]\n",
    "    \n",
    "    plt.scatter(x, y)\n",
    "    plt.xlabel('Distance')\n",
    "    plt.ylabel('Tip amount')\n",
    "    plt.title('The comparison of tip amount versus distance') \n",
    "    \n",
    "    plt.show()"
   ]
  },
  {
   "cell_type": "code",
   "execution_count": 87,
   "id": "d0ace845",
   "metadata": {},
   "outputs": [],
   "source": [
    "def get_data_for_compares_tip_amount_versus_distance():\n",
    "    query = \"\"\"\n",
    "    SELECT distance, tip_amount FROM taxi_trips WHERE tip_amount > 0\n",
    "    \"\"\"\n",
    "    return pd.read_sql_query(query, engine)"
   ]
  },
  {
   "cell_type": "code",
   "execution_count": 88,
   "id": "defec63a",
   "metadata": {},
   "outputs": [
    {
     "data": {
      "image/png": "[encoded data removed]",
      "text/plain": [
       "<Figure size 800x600 with 1 Axes>"
      ]
     },
     "metadata": {},
     "output_type": "display_data"
    }
   ],
   "source": [
    "dataframe_v5 = get_data_for_compares_tip_amount_versus_distance()\n",
    "plot_visual_compares_tip_amount_versus_distance(dataframe_v5)"
   ]
  },
  {
   "cell_type": "markdown",
   "id": "a8c44cb5",
   "metadata": {},
   "source": [
    "### Visualization 6\n",
    "Create scatter plot that compares tip amount versus precipitation amount for Yellow Taxi rides"
   ]
  },
  {
   "cell_type": "code",
   "execution_count": 92,
   "id": "c53f90fa",
   "metadata": {},
   "outputs": [],
   "source": [
    "def plot_visual_compares_tip_amount_versus_precipitation_amount(dataframe):\n",
    "    fig = plt.figure(figsize=(8, 6))\n",
    "\n",
    "    x, y = dataframe.iloc[:,0], dataframe.iloc[:,1]\n",
    "    \n",
    "    plt.scatter(x, y)\n",
    "    plt.xlabel('Precipitation amount')\n",
    "    plt.ylabel('Tip amount')\n",
    "    plt.title('The comparison of tip amount versus precipitation amount') \n",
    "    \n",
    "    plt.show()"
   ]
  },
  {
   "cell_type": "code",
   "execution_count": 100,
   "id": "520b9421",
   "metadata": {},
   "outputs": [],
   "source": [
    "def get_data_for_compares_tip_amount_versus_precipitation_amount():\n",
    "    query = \"\"\"\n",
    "    SELECT precipitation, tip_amount FROM taxi_trips \n",
    "    INNER JOIN daily_weather\n",
    "    ON DATE(daily_weather.weather_date) = DATE(taxi_trips.pickup_datetime)\n",
    "    WHERE tip_amount > 0\n",
    "    \"\"\"\n",
    "    return pd.read_sql_query(query, engine)"
   ]
  },
  {
   "cell_type": "code",
   "execution_count": 101,
   "id": "5151cf10",
   "metadata": {},
   "outputs": [
    {
     "data": {
      "image/png": "[encoded data removed]",
      "text/plain": [
       "<Figure size 800x600 with 1 Axes>"
      ]
     },
     "metadata": {},
     "output_type": "display_data"
    }
   ],
   "source": [
    "dataframe_v6 = get_data_for_compares_tip_amount_versus_precipitation_amount()\n",
    "plot_visual_compares_tip_amount_versus_precipitation_amount(dataframe_v6)"
   ]
  }
 ],
 "metadata": {
  "kernelspec": {
   "display_name": "Python 3 (ipykernel)",
   "language": "python",
   "name": "python3"
  },
  "language_info": {
   "codemirror_mode": {
    "name": "ipython",
    "version": 3
   },
   "file_extension": ".py",
   "mimetype": "text/x-python",
   "name": "python",
   "nbconvert_exporter": "python",
   "pygments_lexer": "ipython3",
   "version": "3.11.3"
  }
 },
 "nbformat": 4,
 "nbformat_minor": 5
}
